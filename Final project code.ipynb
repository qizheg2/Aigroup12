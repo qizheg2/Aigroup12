{
 "cells": [
  {
   "cell_type": "code",
   "execution_count": 77,
   "metadata": {},
   "outputs": [
    {
     "data": {
      "text/html": [
       "<div>\n",
       "<style scoped>\n",
       "    .dataframe tbody tr th:only-of-type {\n",
       "        vertical-align: middle;\n",
       "    }\n",
       "\n",
       "    .dataframe tbody tr th {\n",
       "        vertical-align: top;\n",
       "    }\n",
       "\n",
       "    .dataframe thead th {\n",
       "        text-align: right;\n",
       "    }\n",
       "</style>\n",
       "<table border=\"1\" class=\"dataframe\">\n",
       "  <thead>\n",
       "    <tr style=\"text-align: right;\">\n",
       "      <th></th>\n",
       "      <th>N_Days</th>\n",
       "      <th>Status</th>\n",
       "      <th>Drug</th>\n",
       "      <th>Age</th>\n",
       "      <th>Sex</th>\n",
       "      <th>Ascites</th>\n",
       "      <th>Hepatomegaly</th>\n",
       "      <th>Spiders</th>\n",
       "      <th>Edema</th>\n",
       "      <th>Bilirubin</th>\n",
       "      <th>Cholesterol</th>\n",
       "      <th>Albumin</th>\n",
       "      <th>Copper</th>\n",
       "      <th>Alk_Phos</th>\n",
       "      <th>SGOT</th>\n",
       "      <th>Tryglicerides</th>\n",
       "      <th>Platelets</th>\n",
       "      <th>Prothrombin</th>\n",
       "      <th>Stage</th>\n",
       "    </tr>\n",
       "    <tr>\n",
       "      <th>ID</th>\n",
       "      <th></th>\n",
       "      <th></th>\n",
       "      <th></th>\n",
       "      <th></th>\n",
       "      <th></th>\n",
       "      <th></th>\n",
       "      <th></th>\n",
       "      <th></th>\n",
       "      <th></th>\n",
       "      <th></th>\n",
       "      <th></th>\n",
       "      <th></th>\n",
       "      <th></th>\n",
       "      <th></th>\n",
       "      <th></th>\n",
       "      <th></th>\n",
       "      <th></th>\n",
       "      <th></th>\n",
       "      <th></th>\n",
       "    </tr>\n",
       "  </thead>\n",
       "  <tbody>\n",
       "    <tr>\n",
       "      <th>1</th>\n",
       "      <td>400</td>\n",
       "      <td>D</td>\n",
       "      <td>D-penicillamine</td>\n",
       "      <td>21464</td>\n",
       "      <td>F</td>\n",
       "      <td>Y</td>\n",
       "      <td>Y</td>\n",
       "      <td>Y</td>\n",
       "      <td>Y</td>\n",
       "      <td>14.5</td>\n",
       "      <td>261.0</td>\n",
       "      <td>2.60</td>\n",
       "      <td>156.0</td>\n",
       "      <td>1718.0</td>\n",
       "      <td>137.95</td>\n",
       "      <td>172.0</td>\n",
       "      <td>190.0</td>\n",
       "      <td>12.2</td>\n",
       "      <td>4.0</td>\n",
       "    </tr>\n",
       "    <tr>\n",
       "      <th>2</th>\n",
       "      <td>4500</td>\n",
       "      <td>C</td>\n",
       "      <td>D-penicillamine</td>\n",
       "      <td>20617</td>\n",
       "      <td>F</td>\n",
       "      <td>N</td>\n",
       "      <td>Y</td>\n",
       "      <td>Y</td>\n",
       "      <td>N</td>\n",
       "      <td>1.1</td>\n",
       "      <td>302.0</td>\n",
       "      <td>4.14</td>\n",
       "      <td>54.0</td>\n",
       "      <td>7394.8</td>\n",
       "      <td>113.52</td>\n",
       "      <td>88.0</td>\n",
       "      <td>221.0</td>\n",
       "      <td>10.6</td>\n",
       "      <td>3.0</td>\n",
       "    </tr>\n",
       "    <tr>\n",
       "      <th>3</th>\n",
       "      <td>1012</td>\n",
       "      <td>D</td>\n",
       "      <td>D-penicillamine</td>\n",
       "      <td>25594</td>\n",
       "      <td>M</td>\n",
       "      <td>N</td>\n",
       "      <td>N</td>\n",
       "      <td>N</td>\n",
       "      <td>S</td>\n",
       "      <td>1.4</td>\n",
       "      <td>176.0</td>\n",
       "      <td>3.48</td>\n",
       "      <td>210.0</td>\n",
       "      <td>516.0</td>\n",
       "      <td>96.10</td>\n",
       "      <td>55.0</td>\n",
       "      <td>151.0</td>\n",
       "      <td>12.0</td>\n",
       "      <td>4.0</td>\n",
       "    </tr>\n",
       "    <tr>\n",
       "      <th>4</th>\n",
       "      <td>1925</td>\n",
       "      <td>D</td>\n",
       "      <td>D-penicillamine</td>\n",
       "      <td>19994</td>\n",
       "      <td>F</td>\n",
       "      <td>N</td>\n",
       "      <td>Y</td>\n",
       "      <td>Y</td>\n",
       "      <td>S</td>\n",
       "      <td>1.8</td>\n",
       "      <td>244.0</td>\n",
       "      <td>2.54</td>\n",
       "      <td>64.0</td>\n",
       "      <td>6121.8</td>\n",
       "      <td>60.63</td>\n",
       "      <td>92.0</td>\n",
       "      <td>183.0</td>\n",
       "      <td>10.3</td>\n",
       "      <td>4.0</td>\n",
       "    </tr>\n",
       "    <tr>\n",
       "      <th>5</th>\n",
       "      <td>1504</td>\n",
       "      <td>CL</td>\n",
       "      <td>Placebo</td>\n",
       "      <td>13918</td>\n",
       "      <td>F</td>\n",
       "      <td>N</td>\n",
       "      <td>Y</td>\n",
       "      <td>Y</td>\n",
       "      <td>N</td>\n",
       "      <td>3.4</td>\n",
       "      <td>279.0</td>\n",
       "      <td>3.53</td>\n",
       "      <td>143.0</td>\n",
       "      <td>671.0</td>\n",
       "      <td>113.15</td>\n",
       "      <td>72.0</td>\n",
       "      <td>136.0</td>\n",
       "      <td>10.9</td>\n",
       "      <td>3.0</td>\n",
       "    </tr>\n",
       "  </tbody>\n",
       "</table>\n",
       "</div>"
      ],
      "text/plain": [
       "    N_Days Status             Drug    Age Sex Ascites Hepatomegaly Spiders  \\\n",
       "ID                                                                           \n",
       "1      400      D  D-penicillamine  21464   F       Y            Y       Y   \n",
       "2     4500      C  D-penicillamine  20617   F       N            Y       Y   \n",
       "3     1012      D  D-penicillamine  25594   M       N            N       N   \n",
       "4     1925      D  D-penicillamine  19994   F       N            Y       Y   \n",
       "5     1504     CL          Placebo  13918   F       N            Y       Y   \n",
       "\n",
       "   Edema  Bilirubin  Cholesterol  Albumin  Copper  Alk_Phos    SGOT  \\\n",
       "ID                                                                    \n",
       "1      Y       14.5        261.0     2.60   156.0    1718.0  137.95   \n",
       "2      N        1.1        302.0     4.14    54.0    7394.8  113.52   \n",
       "3      S        1.4        176.0     3.48   210.0     516.0   96.10   \n",
       "4      S        1.8        244.0     2.54    64.0    6121.8   60.63   \n",
       "5      N        3.4        279.0     3.53   143.0     671.0  113.15   \n",
       "\n",
       "    Tryglicerides  Platelets  Prothrombin  Stage  \n",
       "ID                                                \n",
       "1           172.0      190.0         12.2    4.0  \n",
       "2            88.0      221.0         10.6    3.0  \n",
       "3            55.0      151.0         12.0    4.0  \n",
       "4            92.0      183.0         10.3    4.0  \n",
       "5            72.0      136.0         10.9    3.0  "
      ]
     },
     "execution_count": 77,
     "metadata": {},
     "output_type": "execute_result"
    }
   ],
   "source": [
    "import numpy as np\n",
    "import pandas as pd\n",
    "import matplotlib.pyplot as plt\n",
    "import seaborn as sns\n",
    "df = pd.read_csv('cirrhosis.csv', index_col='ID')\n",
    "df.head()\n",
    "#read the data#"
   ]
  },
  {
   "cell_type": "markdown",
   "metadata": {},
   "source": [
    "# Restoring the null values in dataset\n",
    "\n",
    "## Restoration process with respect to data types"
   ]
  },
  {
   "cell_type": "code",
   "execution_count": 78,
   "metadata": {},
   "outputs": [
    {
     "data": {
      "text/plain": [
       "N_Days             0\n",
       "Status             0\n",
       "Drug             106\n",
       "Age                0\n",
       "Sex                0\n",
       "Ascites          106\n",
       "Hepatomegaly     106\n",
       "Spiders          106\n",
       "Edema              0\n",
       "Bilirubin          0\n",
       "Cholesterol      134\n",
       "Albumin            0\n",
       "Copper           108\n",
       "Alk_Phos         106\n",
       "SGOT             106\n",
       "Tryglicerides    136\n",
       "Platelets         11\n",
       "Prothrombin        2\n",
       "Stage              6\n",
       "dtype: int64"
      ]
     },
     "execution_count": 78,
     "metadata": {},
     "output_type": "execute_result"
    }
   ],
   "source": [
    "df.isna().sum()\n",
    "#number of null values#"
   ]
  },
  {
   "cell_type": "code",
   "execution_count": 79,
   "metadata": {},
   "outputs": [
    {
     "data": {
      "text/plain": [
       "N_Days             0\n",
       "Status             0\n",
       "Drug             100\n",
       "Age                0\n",
       "Sex                0\n",
       "Ascites          100\n",
       "Hepatomegaly     100\n",
       "Spiders          100\n",
       "Edema              0\n",
       "Bilirubin          0\n",
       "Cholesterol      128\n",
       "Albumin            0\n",
       "Copper           102\n",
       "Alk_Phos         100\n",
       "SGOT             100\n",
       "Tryglicerides    130\n",
       "Platelets         11\n",
       "Prothrombin        2\n",
       "Stage              0\n",
       "dtype: int64"
      ]
     },
     "execution_count": 79,
     "metadata": {},
     "output_type": "execute_result"
    }
   ],
   "source": [
    "df = df[df['Stage'].notna()]\n",
    "df.isna().sum()\n",
    "#the value to estimate is Stage, so values with null Stage values are not tolerable#"
   ]
  },
  {
   "cell_type": "code",
   "execution_count": 80,
   "metadata": {},
   "outputs": [
    {
     "data": {
      "text/plain": [
       "N_Days           0\n",
       "Age              0\n",
       "Bilirubin        0\n",
       "Cholesterol      0\n",
       "Albumin          0\n",
       "Copper           0\n",
       "Alk_Phos         0\n",
       "SGOT             0\n",
       "Tryglicerides    0\n",
       "Platelets        0\n",
       "Prothrombin      0\n",
       "Stage            0\n",
       "dtype: int64"
      ]
     },
     "execution_count": 80,
     "metadata": {},
     "output_type": "execute_result"
    }
   ],
   "source": [
    "df.select_dtypes(include=(['int64', 'float64'])).isna().sum()\n",
    "df_num_col = df.select_dtypes(include=(['int64', 'float64'])).columns\n",
    "for c in df_num_col:\n",
    "    df[c].fillna(df[c].median(), inplace=True)\n",
    "\n",
    "df.select_dtypes(include=(['int64', 'float64'])).isna().sum()\n",
    "#fill columns with type int and float with the median of the column#"
   ]
  },
  {
   "cell_type": "code",
   "execution_count": 81,
   "metadata": {},
   "outputs": [
    {
     "data": {
      "text/plain": [
       "N_Days             0\n",
       "Status             0\n",
       "Drug             100\n",
       "Age                0\n",
       "Sex                0\n",
       "Ascites          100\n",
       "Hepatomegaly     100\n",
       "Spiders          100\n",
       "Edema              0\n",
       "Bilirubin          0\n",
       "Cholesterol        0\n",
       "Albumin            0\n",
       "Copper             0\n",
       "Alk_Phos           0\n",
       "SGOT               0\n",
       "Tryglicerides      0\n",
       "Platelets          0\n",
       "Prothrombin        0\n",
       "Stage              0\n",
       "dtype: int64"
      ]
     },
     "execution_count": 81,
     "metadata": {},
     "output_type": "execute_result"
    }
   ],
   "source": [
    "df.isna().sum()"
   ]
  },
  {
   "cell_type": "code",
   "execution_count": 82,
   "metadata": {},
   "outputs": [
    {
     "data": {
      "text/plain": [
       "N_Days           0\n",
       "Status           0\n",
       "Drug             0\n",
       "Age              0\n",
       "Sex              0\n",
       "Ascites          0\n",
       "Hepatomegaly     0\n",
       "Spiders          0\n",
       "Edema            0\n",
       "Bilirubin        0\n",
       "Cholesterol      0\n",
       "Albumin          0\n",
       "Copper           0\n",
       "Alk_Phos         0\n",
       "SGOT             0\n",
       "Tryglicerides    0\n",
       "Platelets        0\n",
       "Prothrombin      0\n",
       "Stage            0\n",
       "dtype: int64"
      ]
     },
     "execution_count": 82,
     "metadata": {},
     "output_type": "execute_result"
    }
   ],
   "source": [
    "df_cat_col = df.select_dtypes(include=('object')).columns\n",
    "for c in df_cat_col:\n",
    "    df[c].fillna(df[c].mode().values[0], inplace=True)\n",
    "df.isna().sum()\n",
    "#fill columns with type other than numbers to be the mode of the column#"
   ]
  },
  {
   "cell_type": "code",
   "execution_count": 84,
   "metadata": {},
   "outputs": [],
   "source": [
    "import sklearn\n",
    "from sklearn.tree import DecisionTreeClassifier\n",
    "from sklearn import preprocessing\n",
    "from sklearn.model_selection import train_test_split\n",
    "categorical_cols = ['Status', 'Drug', 'Sex', 'Ascites', 'Hepatomegaly', 'Spiders', 'Edema', 'Stage']\n",
    "le = preprocessing.LabelEncoder()\n",
    "for col in categorical_cols:\n",
    "    df[col] = le.fit_transform(df[col])\n",
    "#Do preprocessing, assign a label to those columns with values other than numbers#"
   ]
  },
  {
   "cell_type": "code",
   "execution_count": 94,
   "metadata": {
    "scrolled": true
   },
   "outputs": [
    {
     "name": "stdout",
     "output_type": "stream",
     "text": [
      "(329, 18) (83, 18)\n"
     ]
    }
   ],
   "source": [
    "X, y = df.drop(['Stage'], axis=1), df['Stage']\n",
    "X_train, X_val, y_train, y_val = train_test_split(X, y, train_size = 0.8)\n",
    "print(X_train.shape, X_val.shape)"
   ]
  },
  {
   "cell_type": "code",
   "execution_count": 108,
   "metadata": {},
   "outputs": [
    {
     "data": {
      "text/plain": [
       "0.734010304045604"
      ]
     },
     "execution_count": 108,
     "metadata": {},
     "output_type": "execute_result"
    }
   ],
   "source": [
    "from sklearn.ensemble import RandomForestClassifier\n",
    "from sklearn.metrics import roc_auc_score\n",
    "score = 0\n",
    "for i in range(5):\n",
    "    rf = RandomForestClassifier(criterion = 'entropy', max_depth = 20, n_estimators = 100)\n",
    "    #use a random forest classifier with depth 20#\n",
    "    rf.fit(X_train, y_train)\n",
    "    pred = rf.predict_proba(X_val)\n",
    "    score += roc_auc_score(y_val, pred, multi_class = 'ovr')\n",
    "score / 5\n",
    "# print the average of the first trials"
   ]
  },
  {
   "cell_type": "code",
   "execution_count": null,
   "metadata": {},
   "outputs": [],
   "source": []
  }
 ],
 "metadata": {
  "kernelspec": {
   "display_name": "Python 3",
   "language": "python",
   "name": "python3"
  },
  "language_info": {
   "codemirror_mode": {
    "name": "ipython",
    "version": 3
   },
   "file_extension": ".py",
   "mimetype": "text/x-python",
   "name": "python",
   "nbconvert_exporter": "python",
   "pygments_lexer": "ipython3",
   "version": "3.8.5"
  }
 },
 "nbformat": 4,
 "nbformat_minor": 4
}
